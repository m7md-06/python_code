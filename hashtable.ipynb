{
 "cells": [
  {
   "cell_type": "code",
   "execution_count": null,
   "id": "d9923591",
   "metadata": {},
   "outputs": [],
   "source": [
    "class HashTable:\n",
    "    def __init__(self, size=10):\n",
    "        # Creates an empty list for each \"slot\" in the table\n",
    "        self.size = size\n",
    "        self.table = [[] for _ in range(size)]\n",
    "\n",
    "    def _hash(self, key):\n",
    "        # Converts the key into an index within the table size\n",
    "        return hash(key) % self.size\n",
    "\n",
    "    def insert(self, key, value):\n",
    "        # Find the index for the key\n",
    "        index = self._hash(key)\n",
    "        # Check if the key already exists → update it\n",
    "        for i, (k, v) in enumerate(self.table[index]):\n",
    "            if k == key:\n",
    "                self.table[index][i] = (key, value)\n",
    "                return\n",
    "        # If not found, append new key-value pair\n",
    "        self.table[index].append((key, value))\n",
    "\n",
    "    def get(self, key):\n",
    "        # Find the index for the key\n",
    "        index = self._hash(key)\n",
    "        # Search through the list at that index\n",
    "        for k, v in self.table[index]:\n",
    "            if k == key:\n",
    "                return v\n",
    "        return None  # Key not found\n",
    "\n",
    "    def delete(self, key):\n",
    "        # Find the index for the key\n",
    "        index = self._hash(key)\n",
    "        # Search and remove the key-value pair\n",
    "        for i, (k, v) in enumerate(self.table[index]):\n",
    "            if k == key:\n",
    "                del self.table[index][i]\n",
    "                return True\n",
    "        return False  # Key not found"
   ]
  }
 ],
 "metadata": {
  "kernelspec": {
   "display_name": "base",
   "language": "python",
   "name": "python3"
  },
  "language_info": {
   "name": "python",
   "version": "3.13.5"
  }
 },
 "nbformat": 4,
 "nbformat_minor": 5
}
